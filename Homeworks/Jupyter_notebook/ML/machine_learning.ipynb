{
 "cells": [
  {
   "cell_type": "markdown",
   "metadata": {
    "id": "IBb6nSAY5T4I"
   },
   "source": [
    "# Machine Learning\n",
    "## Compulsory task"
   ]
  },
  {
   "cell_type": "markdown",
   "metadata": {
    "id": "N02Qu9_f1N45"
   },
   "source": [
    "1. For each of the following examples describe at least one possible input and\n",
    "output. Justify your answers:  \n",
    "* 1.1 A self-driving car\n",
    "* 1.2 Netflix recommendation system\n",
    "* 1.3 Signature recognition\n",
    "* 1.4 Medical diagnosis\n"
   ]
  },
  {
   "cell_type": "markdown",
   "metadata": {
    "id": "-8aBqprP3ypo"
   },
   "source": [
    "1. Answer here\n",
    "\n",
    "|      | Input(s)                                               | Output                                            |\n",
    "| ---- | ------------------------------------------------------ | ------------------------------------------------- |\n",
    "| 1.1  | distance to nearest obstacle, distance to side of road | accelerate (negative acc. = break), turn          |\n",
    "| 1.2  | history of watched videos (genres)                     | list of videos with same genre                    |\n",
    "| 1.3  | matrix of black pixels (black and white image)         | probability if signatures belongs to known person |\n",
    "| 1.4  | temperature, blood preassure                           | probability of disease                            |"
   ]
  },
  {
   "cell_type": "markdown",
   "metadata": {
    "id": "l_I2f4C85yNF"
   },
   "source": [
    "\n",
    "2. For each of the following case studies, determine whether it is appropriate to utilise regression or classification machine learning algorithms. Justify your answers:\n",
    "* 2.1 Classifying emails as promotion or social based on their content and metadata.\n",
    "* 2.2 Forecasting the stock price of a company based on historical data and market trends.\n",
    "* 2.3 Sorting images of animals into different species based on their visual features.\n",
    "* 2.4 Predicting the likelihood of a patient having a particular disease based on medical history and diagnostic test results."
   ]
  },
  {
   "cell_type": "markdown",
   "metadata": {
    "id": "WgMUsqQr6qFU"
   },
   "source": [
    "2. Answer here\n",
    "* 2.1 - Classification - you are getting social emails from your friends. Promotion (SPAM) emails are from people which are not in your address book and contain words like: exclusive, free, opportunity, leads, SEO...\n",
    "* 2.2 - Regression - Theoretically. Practically, there is no equation which will predict, events which move the market. For example, Ronaldo removed Coca-Cola from the table and said: \"You should drink water.\" Next day KO stock tanked 5%. Elon Musk said: \"DOGE seems low.\" And DOGE coin went up. Then he said \"Hmm, DOGE looks expensive now.\" and price crashed. Main reason behind Jim Simons succes is 1:17 leverage, not some magical math formula which describes market. There is a reason why they have to say: “Past performance does not guarantee future results.”\n",
    "* 2.3 - Classification - We need to classify animals into groups. We are not looking for one equation.\n",
    "* 2.4 - Regression - We are looking for likelihood of occurance. We need equation which will calculate that based on inputs."
   ]
  },
  {
   "cell_type": "markdown",
   "metadata": {
    "id": "b6f8UETG64hH"
   },
   "source": [
    "3. For each of the following real-world problems, determine whether it is appropriate to utilise a supervised or unsupervised machine learning algorithm. Justify your answers:\n",
    "* 3.1 Detecting anomalies in a manufacturing process using sensor data without prior knowledge of specific anomaly patterns.\n",
    "* 3.2 Predicting customer lifetime value based on historical transaction data and customer demographics.\n",
    "* 3.3 Segmenting customer demographics based on their purchase history, browsing behaviour, and preferences.\n",
    "* 3.4 Analysing social media posts to categorise them into different themes.\n"
   ]
  },
  {
   "cell_type": "markdown",
   "metadata": {
    "id": "W6dTYBvd675O"
   },
   "source": [
    "3. Answer here\n",
    "* 3.1 - Unsupervised - no prior knowledge = no labeled data. Which means we will be looking for something that stands out.\n",
    "* 3.2 - Supervised - We have historical data and demographics.\n",
    "* 3.3 - Unsupervised - We are looking for new groups which we didn't labelled yet.\n",
    "* 3.4 - Depends - Are those categories known? Does data include posts with labels?  If it does than Supervised, otherwise Unsupervised."
   ]
  },
  {
   "cell_type": "markdown",
   "metadata": {
    "id": "bqsun96o64xe"
   },
   "source": [
    "4.\n",
    "For each of the following real-world problems, determine whether it is appropriate to utilise semi-supervised machine learning algorithms. Justify your answers:\n",
    "* 4.1 Predicting fraudulent financial transactions using a dataset where most transactions are labelled as fraudulent or legitimate.\n",
    "* 4.2 Analysing customer satisfaction surveys where only a small portion of the data is labelled with satisfaction ratings.\n",
    "*4.3 Identifying spam emails in a dataset where the majority of emails are labelled.\n",
    "* 4.4 Predicting the probability of default for credit card applicants based on their complete financial and credit-related information.\n"
   ]
  },
  {
   "cell_type": "markdown",
   "metadata": {
    "id": "aTWugZ6q68GF"
   },
   "source": [
    "4. Answer here\n",
    "* 4.1 - NO - Semi-supervised learning works best in situations, where labeled data is scarce.\n",
    "* 4.2 - YES - Only a small portion of data is labelled.\n",
    "* 4.3 - NO - Majority of emails are labelled.\n",
    "* 4.4 - NO - We already have complete set of information."
   ]
  }
 ],
 "metadata": {
  "colab": {
   "provenance": []
  },
  "kernelspec": {
   "display_name": "Python 3 (ipykernel)",
   "language": "python",
   "name": "python3"
  },
  "language_info": {
   "codemirror_mode": {
    "name": "ipython",
    "version": 3
   },
   "file_extension": ".py",
   "mimetype": "text/x-python",
   "name": "python",
   "nbconvert_exporter": "python",
   "pygments_lexer": "ipython3",
   "version": "3.8.10"
  }
 },
 "nbformat": 4,
 "nbformat_minor": 4
}
